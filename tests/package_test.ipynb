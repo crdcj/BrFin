{
 "cells": [
  {
   "cell_type": "code",
   "execution_count": 9,
   "metadata": {},
   "outputs": [],
   "source": [
    "import context\n",
    "import brfinance as bf"
   ]
  },
  {
   "cell_type": "code",
   "execution_count": 10,
   "metadata": {},
   "outputs": [
    {
     "name": "stdout",
     "output_type": "stream",
     "text": [
      "\n",
      "Updating CVM raw datasets...\n",
      "dfp_cia_aberta_2014.zip already updated -> continue\n",
      "dfp_cia_aberta_2015.zip already updated -> continue\n",
      "dfp_cia_aberta_2013.zip already updated -> continue\n",
      "dfp_cia_aberta_2018.zip already updated -> continue\n",
      "dfp_cia_aberta_2021.zip already updated -> continue\n",
      "dfp_cia_aberta_2020.zip already updated -> continuedfp_cia_aberta_2023.zip not found in CVM server -> continue\n",
      "\n",
      "dfp_cia_aberta_2019.zip already updated -> continue\n",
      "itr_cia_aberta_2023.zip not found in CVM server -> continuedfp_cia_aberta_2022.zip not found in CVM server -> continue\n",
      "\n",
      "itr_cia_aberta_2020.zip already updated -> continue\n",
      "itr_cia_aberta_2022.zip already updated -> continue\n",
      "dfp_cia_aberta_2012.zip already updated -> continue\n",
      "dfp_cia_aberta_2010.zip already updated -> continue\n",
      "dfp_cia_aberta_2011.zip already updated -> continue\n",
      "dfp_cia_aberta_2017.zip already updated -> continue\n",
      "dfp_cia_aberta_2016.zip already updated -> continue\n",
      "itr_cia_aberta_2021.zip already updated -> continue\n",
      "\n",
      "Processing CVM raw dataset...\n",
      "itr_cia_aberta_2022.zip processed\n",
      "dfp_cia_aberta_2021.zip processed\n",
      "dfp_cia_aberta_2010.zip processed\n",
      "dfp_cia_aberta_2014.zip processed\n",
      "dfp_cia_aberta_2013.zip processed\n",
      "dfp_cia_aberta_2017.zip processed\n",
      "dfp_cia_aberta_2011.zip processed\n",
      "dfp_cia_aberta_2012.zip processed\n",
      "dfp_cia_aberta_2016.zip processed\n",
      "dfp_cia_aberta_2015.zip processed\n",
      "dfp_cia_aberta_2018.zip processed\n",
      "dfp_cia_aberta_2019.zip processed\n",
      "dfp_cia_aberta_2020.zip processed\n",
      "itr_cia_aberta_2020.zip processed\n",
      "itr_cia_aberta_2021.zip processed\n",
      "\n",
      "Concatenating dataframes ...\n",
      "Columns data type changed to category\n",
      "\n",
      "Processed dataset saved\n"
     ]
    }
   ],
   "source": [
    "bf.update_dataset()"
   ]
  },
  {
   "cell_type": "code",
   "execution_count": 11,
   "metadata": {},
   "outputs": [
    {
     "data": {
      "text/plain": [
       "{'Corp. Name': 'PETROLEO BRASILEIRO S.A. PETROBRAS',\n",
       " 'Corp. ID (CVM number)': 9512,\n",
       " 'Corp. Fiscal ID': '33.000.167/0001-01',\n",
       " 'First Annual Report': '2009-12-31',\n",
       " 'Last Annual Report': '2021-12-31',\n",
       " 'Last Quarterly Report': '2021-09-30'}"
      ]
     },
     "execution_count": 11,
     "metadata": {},
     "output_type": "execute_result"
    }
   ],
   "source": [
    "petro = bf.Finance(9512)\n",
    "petro.info()"
   ]
  }
 ],
 "metadata": {
  "interpreter": {
   "hash": "8d029406b0dd3b830f19c2ef04e220742350d32bfcc8e83cdaeeac9bf8cafa5a"
  },
  "kernelspec": {
   "display_name": "Python 3.9.7 ('bf')",
   "language": "python",
   "name": "python3"
  },
  "language_info": {
   "codemirror_mode": {
    "name": "ipython",
    "version": 3
   },
   "file_extension": ".py",
   "mimetype": "text/x-python",
   "name": "python",
   "nbconvert_exporter": "python",
   "pygments_lexer": "ipython3",
   "version": "3.9.7"
  },
  "orig_nbformat": 4
 },
 "nbformat": 4,
 "nbformat_minor": 2
}
