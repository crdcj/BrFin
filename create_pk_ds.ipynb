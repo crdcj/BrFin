{
 "cells": [
  {
   "cell_type": "code",
   "execution_count": 1,
   "metadata": {},
   "outputs": [],
   "source": [
    "import os\n",
    "import importlib\n",
    "import zipfile as zf\n",
    "import pandas as pd\n",
    "import numpy as np\n",
    "import cvm\n",
    "\n",
    "importlib.reload(cvm)\n",
    "pd.options.display.max_colwidth = 15\n",
    "pd.options.display.max_rows = 4"
   ]
  },
  {
   "cell_type": "code",
   "execution_count": 2,
   "metadata": {},
   "outputs": [
    {
     "data": {
      "text/plain": [
       "['dfp_cia_aberta_2010.zip',\n",
       " 'dfp_cia_aberta_2011.zip',\n",
       " 'dfp_cia_aberta_2012.zip',\n",
       " 'dfp_cia_aberta_2013.zip',\n",
       " 'dfp_cia_aberta_2014.zip',\n",
       " 'dfp_cia_aberta_2015.zip',\n",
       " 'dfp_cia_aberta_2016.zip',\n",
       " 'dfp_cia_aberta_2017.zip',\n",
       " 'dfp_cia_aberta_2018.zip',\n",
       " 'dfp_cia_aberta_2019.zip',\n",
       " 'dfp_cia_aberta_2020.zip',\n",
       " 'dfp_cia_aberta_2021.zip',\n",
       " 'itr_cia_aberta_2020.zip',\n",
       " 'itr_cia_aberta_2021.zip',\n",
       " 'itr_cia_aberta_2022.zip']"
      ]
     },
     "execution_count": 2,
     "metadata": {},
     "output_type": "execute_result"
    }
   ],
   "source": [
    "files_names = sorted(os.listdir('./data/raw/'))\n",
    "files_names"
   ]
  },
  {
   "cell_type": "code",
   "execution_count": 5,
   "metadata": {},
   "outputs": [],
   "source": [
    "date_columns = ['DT_REFER', 'DT_FIM_EXERC']\n",
    "kwargs = {\n",
    "    'sep': ';',\n",
    "    'encoding': 'iso-8859-1',\n",
    "    'dtype': str,\n",
    "    'parse_dates': date_columns}"
   ]
  },
  {
   "cell_type": "code",
   "execution_count": 9,
   "metadata": {},
   "outputs": [
    {
     "name": "stdout",
     "output_type": "stream",
     "text": [
      "dfp_cia_aberta_2010.zip\n",
      "dfp_cia_aberta_2011.zip\n",
      "dfp_cia_aberta_2012.zip\n",
      "dfp_cia_aberta_2013.zip\n",
      "dfp_cia_aberta_2014.zip\n",
      "dfp_cia_aberta_2015.zip\n",
      "dfp_cia_aberta_2016.zip\n",
      "dfp_cia_aberta_2017.zip\n",
      "dfp_cia_aberta_2018.zip\n",
      "dfp_cia_aberta_2019.zip\n",
      "dfp_cia_aberta_2020.zip\n",
      "dfp_cia_aberta_2021.zip\n",
      "itr_cia_aberta_2020.zip\n",
      "itr_cia_aberta_2021.zip\n",
      "itr_cia_aberta_2022.zip\n"
     ]
    }
   ],
   "source": [
    "# full scan = 8m 10s -> 5.6 GB df memory space\n",
    "# formated colums = 4m 30s -> 3.5 GB df memory space\n",
    "# zstd -> 16.5 seg\n",
    "# lz4 -> 15.4 seg\n",
    "# df_all = pd.DataFrame()\n",
    "for parent_file_name in files_names:\n",
    "    print(parent_file_name)\n",
    "    file_path = f'./data/raw/{parent_file_name}'\n",
    "    parent_file = zf.ZipFile(file_path)\n",
    "    # print(parent_file.namelist())\n",
    "    df_year = pd.DataFrame()\n",
    "    child_file_names = parent_file.namelist()\n",
    "    for child_file_name in child_file_names[1:]:\n",
    "        # print(child_parent_file_name)\n",
    "        child_file = parent_file.open(child_file_name)\n",
    "        df_child = pd.read_csv(child_file, **kwargs)\n",
    "        df_child = cvm.process_child_dataframe(df_child)        \n",
    "        # df_all = pd.concat([df_all, df_child], ignore_index=True)\n",
    "        df_year = pd.concat([df_year, df_child], ignore_index=True)\n",
    "    sort_by = [\n",
    "        'CD_CVM', 'GRUPO_DFP', 'VERSAO', 'ORDEM_EXERC', 'DT_REFER', 'CD_CONTA']\n",
    "    df_year.sort_values(by=sort_by, ignore_index=True, inplace=True)\n",
    "    df_year.to_pickle(\n",
    "        f'./data/processed/{parent_file_name[:-4]}.pkl',\n",
    "        compression='zstd')\n",
    "    # df_year.to_feather(f'./data/processed/{parent_file_name[:-4]}.feather')"
   ]
  },
  {
   "cell_type": "code",
   "execution_count": 4,
   "metadata": {},
   "outputs": [
    {
     "data": {
      "text/plain": [
       "['dfp_cia_aberta_2010.pkl',\n",
       " 'dfp_cia_aberta_2011.pkl',\n",
       " 'dfp_cia_aberta_2012.pkl',\n",
       " 'dfp_cia_aberta_2013.pkl',\n",
       " 'dfp_cia_aberta_2014.pkl',\n",
       " 'dfp_cia_aberta_2015.pkl',\n",
       " 'dfp_cia_aberta_2016.pkl',\n",
       " 'dfp_cia_aberta_2017.pkl',\n",
       " 'dfp_cia_aberta_2018.pkl',\n",
       " 'dfp_cia_aberta_2019.pkl',\n",
       " 'dfp_cia_aberta_2020.pkl',\n",
       " 'dfp_cia_aberta_2021.pkl',\n",
       " 'itr_cia_aberta_2020.pkl',\n",
       " 'itr_cia_aberta_2021.pkl',\n",
       " 'itr_cia_aberta_2022.pkl']"
      ]
     },
     "execution_count": 4,
     "metadata": {},
     "output_type": "execute_result"
    }
   ],
   "source": [
    "files_names = sorted(os.listdir('./data/processed/'))\n",
    "files_names"
   ]
  },
  {
   "cell_type": "code",
   "execution_count": 5,
   "metadata": {},
   "outputs": [
    {
     "data": {
      "text/html": [
       "<div>\n",
       "<style scoped>\n",
       "    .dataframe tbody tr th:only-of-type {\n",
       "        vertical-align: middle;\n",
       "    }\n",
       "\n",
       "    .dataframe tbody tr th {\n",
       "        vertical-align: top;\n",
       "    }\n",
       "\n",
       "    .dataframe thead th {\n",
       "        text-align: right;\n",
       "    }\n",
       "</style>\n",
       "<table border=\"1\" class=\"dataframe\">\n",
       "  <thead>\n",
       "    <tr style=\"text-align: right;\">\n",
       "      <th></th>\n",
       "      <th>CD_CVM</th>\n",
       "      <th>CNPJ_CIA</th>\n",
       "      <th>DENOM_CIA</th>\n",
       "      <th>GRUPO_DFP</th>\n",
       "      <th>VERSAO</th>\n",
       "      <th>DT_REFER</th>\n",
       "      <th>DT_INI_EXERC</th>\n",
       "      <th>DT_FIM_EXERC</th>\n",
       "      <th>ORDEM_EXERC</th>\n",
       "      <th>CD_CONTA</th>\n",
       "      <th>DS_CONTA</th>\n",
       "      <th>ST_CONTA_FIXA</th>\n",
       "      <th>COLUNA_DF</th>\n",
       "      <th>VL_CONTA</th>\n",
       "    </tr>\n",
       "  </thead>\n",
       "  <tbody>\n",
       "    <tr>\n",
       "      <th>0</th>\n",
       "      <td>9512</td>\n",
       "      <td>33.000.167/...</td>\n",
       "      <td>PETROLEO BR...</td>\n",
       "      <td>DF Consolid...</td>\n",
       "      <td>3</td>\n",
       "      <td>2010-12-31 ...</td>\n",
       "      <td>NaT</td>\n",
       "      <td>2009-12-31 ...</td>\n",
       "      <td>-1</td>\n",
       "      <td>1</td>\n",
       "      <td>Ativo Total</td>\n",
       "      <td>True</td>\n",
       "      <td>NaN</td>\n",
       "      <td>3.504189e+11</td>\n",
       "    </tr>\n",
       "    <tr>\n",
       "      <th>1</th>\n",
       "      <td>9512</td>\n",
       "      <td>33.000.167/...</td>\n",
       "      <td>PETROLEO BR...</td>\n",
       "      <td>DF Consolid...</td>\n",
       "      <td>3</td>\n",
       "      <td>2010-12-31 ...</td>\n",
       "      <td>NaT</td>\n",
       "      <td>2009-12-31 ...</td>\n",
       "      <td>-1</td>\n",
       "      <td>1.01</td>\n",
       "      <td>Ativo Circu...</td>\n",
       "      <td>True</td>\n",
       "      <td>NaN</td>\n",
       "      <td>7.437357e+10</td>\n",
       "    </tr>\n",
       "    <tr>\n",
       "      <th>...</th>\n",
       "      <td>...</td>\n",
       "      <td>...</td>\n",
       "      <td>...</td>\n",
       "      <td>...</td>\n",
       "      <td>...</td>\n",
       "      <td>...</td>\n",
       "      <td>...</td>\n",
       "      <td>...</td>\n",
       "      <td>...</td>\n",
       "      <td>...</td>\n",
       "      <td>...</td>\n",
       "      <td>...</td>\n",
       "      <td>...</td>\n",
       "      <td>...</td>\n",
       "    </tr>\n",
       "    <tr>\n",
       "      <th>37112</th>\n",
       "      <td>9512</td>\n",
       "      <td>33.000.167/...</td>\n",
       "      <td>PETROLEO BR...</td>\n",
       "      <td>DF Individu...</td>\n",
       "      <td>1</td>\n",
       "      <td>2021-09-30 ...</td>\n",
       "      <td>2021-01-01</td>\n",
       "      <td>2021-09-30 ...</td>\n",
       "      <td>0</td>\n",
       "      <td>3.99.02.02</td>\n",
       "      <td>PN</td>\n",
       "      <td>False</td>\n",
       "      <td>NaN</td>\n",
       "      <td>5.760000e+03</td>\n",
       "    </tr>\n",
       "    <tr>\n",
       "      <th>37113</th>\n",
       "      <td>9512</td>\n",
       "      <td>33.000.167/...</td>\n",
       "      <td>PETROLEO BR...</td>\n",
       "      <td>DF Individu...</td>\n",
       "      <td>1</td>\n",
       "      <td>2021-09-30 ...</td>\n",
       "      <td>2021-07-01</td>\n",
       "      <td>2021-09-30 ...</td>\n",
       "      <td>0</td>\n",
       "      <td>3.99.02.02</td>\n",
       "      <td>PN</td>\n",
       "      <td>False</td>\n",
       "      <td>NaN</td>\n",
       "      <td>2.390000e+03</td>\n",
       "    </tr>\n",
       "  </tbody>\n",
       "</table>\n",
       "<p>37114 rows × 14 columns</p>\n",
       "</div>"
      ],
      "text/plain": [
       "       CD_CVM        CNPJ_CIA       DENOM_CIA       GRUPO_DFP  VERSAO  \\\n",
       "0        9512  33.000.167/...  PETROLEO BR...  DF Consolid...       3   \n",
       "1        9512  33.000.167/...  PETROLEO BR...  DF Consolid...       3   \n",
       "...       ...             ...             ...             ...     ...   \n",
       "37112    9512  33.000.167/...  PETROLEO BR...  DF Individu...       1   \n",
       "37113    9512  33.000.167/...  PETROLEO BR...  DF Individu...       1   \n",
       "\n",
       "             DT_REFER DT_INI_EXERC    DT_FIM_EXERC  ORDEM_EXERC    CD_CONTA  \\\n",
       "0      2010-12-31 ...          NaT  2009-12-31 ...           -1           1   \n",
       "1      2010-12-31 ...          NaT  2009-12-31 ...           -1        1.01   \n",
       "...               ...          ...             ...          ...         ...   \n",
       "37112  2021-09-30 ...   2021-01-01  2021-09-30 ...            0  3.99.02.02   \n",
       "37113  2021-09-30 ...   2021-07-01  2021-09-30 ...            0  3.99.02.02   \n",
       "\n",
       "             DS_CONTA  ST_CONTA_FIXA COLUNA_DF      VL_CONTA  \n",
       "0         Ativo Total           True       NaN  3.504189e+11  \n",
       "1      Ativo Circu...           True       NaN  7.437357e+10  \n",
       "...               ...            ...       ...           ...  \n",
       "37112              PN          False       NaN  5.760000e+03  \n",
       "37113              PN          False       NaN  2.390000e+03  \n",
       "\n",
       "[37114 rows x 14 columns]"
      ]
     },
     "execution_count": 5,
     "metadata": {},
     "output_type": "execute_result"
    }
   ],
   "source": [
    "df = pd.DataFrame()\n",
    "for file_name in files_names:\n",
    "    dfy = pd.read_pickle(f'./data/processed/{file_name}', compression='zstd')\n",
    "    dfy.query(\"CD_CVM == 9512\", inplace=True)\n",
    "    df = pd.concat([df, dfy], ignore_index=True)\n",
    "df"
   ]
  },
  {
   "cell_type": "code",
   "execution_count": null,
   "metadata": {},
   "outputs": [],
   "source": [
    "df.info()"
   ]
  }
 ],
 "metadata": {
  "interpreter": {
   "hash": "2b69beea3113fea2115fd020e5cf2455c0047401e926b51ffba90b9edc6ee9ae"
  },
  "kernelspec": {
   "display_name": "Python 3.10.1 64-bit ('brfin': conda)",
   "language": "python",
   "name": "python3"
  },
  "language_info": {
   "codemirror_mode": {
    "name": "ipython",
    "version": 3
   },
   "file_extension": ".py",
   "mimetype": "text/x-python",
   "name": "python",
   "nbconvert_exporter": "python",
   "pygments_lexer": "ipython3",
   "version": "3.10.2"
  },
  "orig_nbformat": 4
 },
 "nbformat": 4,
 "nbformat_minor": 2
}
