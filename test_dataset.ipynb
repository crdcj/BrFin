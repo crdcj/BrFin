{
 "cells": [
  {
   "cell_type": "code",
   "execution_count": 1,
   "metadata": {},
   "outputs": [],
   "source": [
    "import importlib\n",
    "import pandas as pd\n",
    "\n",
    "pd.options.display.max_colwidth = 15\n",
    "pd.options.display.max_rows = 4"
   ]
  },
  {
   "cell_type": "code",
   "execution_count": 9,
   "metadata": {},
   "outputs": [
    {
     "data": {
      "text/html": [
       "<div>\n",
       "<style scoped>\n",
       "    .dataframe tbody tr th:only-of-type {\n",
       "        vertical-align: middle;\n",
       "    }\n",
       "\n",
       "    .dataframe tbody tr th {\n",
       "        vertical-align: top;\n",
       "    }\n",
       "\n",
       "    .dataframe thead th {\n",
       "        text-align: right;\n",
       "    }\n",
       "</style>\n",
       "<table border=\"1\" class=\"dataframe\">\n",
       "  <thead>\n",
       "    <tr style=\"text-align: right;\">\n",
       "      <th></th>\n",
       "      <th>CD_CVM</th>\n",
       "      <th>CNPJ_CIA</th>\n",
       "      <th>DENOM_CIA</th>\n",
       "      <th>GRUPO_DFP</th>\n",
       "      <th>VERSAO</th>\n",
       "      <th>DT_REFER</th>\n",
       "      <th>DT_INI_EXERC</th>\n",
       "      <th>DT_FIM_EXERC</th>\n",
       "      <th>ORDEM_EXERC</th>\n",
       "      <th>CD_CONTA</th>\n",
       "      <th>DS_CONTA</th>\n",
       "      <th>ST_CONTA_FIXA</th>\n",
       "      <th>COLUNA_DF</th>\n",
       "      <th>VL_CONTA</th>\n",
       "    </tr>\n",
       "  </thead>\n",
       "  <tbody>\n",
       "    <tr>\n",
       "      <th>0</th>\n",
       "      <td>94</td>\n",
       "      <td>92.693.019/...</td>\n",
       "      <td>PANATLANTIC...</td>\n",
       "      <td>DF Consolid...</td>\n",
       "      <td>1</td>\n",
       "      <td>2011-12-31</td>\n",
       "      <td>NaT</td>\n",
       "      <td>2010-12-31</td>\n",
       "      <td>-1</td>\n",
       "      <td>1</td>\n",
       "      <td>Ativo Total</td>\n",
       "      <td>True</td>\n",
       "      <td>NaN</td>\n",
       "      <td>2.825930e+08</td>\n",
       "    </tr>\n",
       "    <tr>\n",
       "      <th>1</th>\n",
       "      <td>94</td>\n",
       "      <td>92.693.019/...</td>\n",
       "      <td>PANATLANTIC...</td>\n",
       "      <td>DF Consolid...</td>\n",
       "      <td>1</td>\n",
       "      <td>2011-12-31</td>\n",
       "      <td>NaT</td>\n",
       "      <td>2010-12-31</td>\n",
       "      <td>-1</td>\n",
       "      <td>1.01</td>\n",
       "      <td>Ativo Circu...</td>\n",
       "      <td>True</td>\n",
       "      <td>NaN</td>\n",
       "      <td>2.193760e+08</td>\n",
       "    </tr>\n",
       "    <tr>\n",
       "      <th>...</th>\n",
       "      <td>...</td>\n",
       "      <td>...</td>\n",
       "      <td>...</td>\n",
       "      <td>...</td>\n",
       "      <td>...</td>\n",
       "      <td>...</td>\n",
       "      <td>...</td>\n",
       "      <td>...</td>\n",
       "      <td>...</td>\n",
       "      <td>...</td>\n",
       "      <td>...</td>\n",
       "      <td>...</td>\n",
       "      <td>...</td>\n",
       "      <td>...</td>\n",
       "    </tr>\n",
       "    <tr>\n",
       "      <th>17608709</th>\n",
       "      <td>518700</td>\n",
       "      <td>70.216.429/...</td>\n",
       "      <td>BRAMEX - BR...</td>\n",
       "      <td>DF Individu...</td>\n",
       "      <td>1</td>\n",
       "      <td>2013-12-31</td>\n",
       "      <td>2013-01-01</td>\n",
       "      <td>2013-12-31</td>\n",
       "      <td>0</td>\n",
       "      <td>3.99.01.03</td>\n",
       "      <td>PNB</td>\n",
       "      <td>False</td>\n",
       "      <td>NaN</td>\n",
       "      <td>2.148900e-02</td>\n",
       "    </tr>\n",
       "    <tr>\n",
       "      <th>17608710</th>\n",
       "      <td>518700</td>\n",
       "      <td>70.216.429/...</td>\n",
       "      <td>BRAMEX - BR...</td>\n",
       "      <td>DF Individu...</td>\n",
       "      <td>1</td>\n",
       "      <td>2013-12-31</td>\n",
       "      <td>2013-01-01</td>\n",
       "      <td>2013-12-31</td>\n",
       "      <td>0</td>\n",
       "      <td>3.99.02</td>\n",
       "      <td>Lucro Diluí...</td>\n",
       "      <td>False</td>\n",
       "      <td>NaN</td>\n",
       "      <td>0.000000e+00</td>\n",
       "    </tr>\n",
       "  </tbody>\n",
       "</table>\n",
       "<p>17608711 rows × 14 columns</p>\n",
       "</div>"
      ],
      "text/plain": [
       "          CD_CVM        CNPJ_CIA       DENOM_CIA       GRUPO_DFP VERSAO  \\\n",
       "0             94  92.693.019/...  PANATLANTIC...  DF Consolid...      1   \n",
       "1             94  92.693.019/...  PANATLANTIC...  DF Consolid...      1   \n",
       "...          ...             ...             ...             ...    ...   \n",
       "17608709  518700  70.216.429/...  BRAMEX - BR...  DF Individu...      1   \n",
       "17608710  518700  70.216.429/...  BRAMEX - BR...  DF Individu...      1   \n",
       "\n",
       "           DT_REFER DT_INI_EXERC DT_FIM_EXERC ORDEM_EXERC    CD_CONTA  \\\n",
       "0        2011-12-31          NaT   2010-12-31          -1           1   \n",
       "1        2011-12-31          NaT   2010-12-31          -1        1.01   \n",
       "...             ...          ...          ...         ...         ...   \n",
       "17608709 2013-12-31   2013-01-01   2013-12-31           0  3.99.01.03   \n",
       "17608710 2013-12-31   2013-01-01   2013-12-31           0     3.99.02   \n",
       "\n",
       "                DS_CONTA ST_CONTA_FIXA COLUNA_DF      VL_CONTA  \n",
       "0            Ativo Total          True       NaN  2.825930e+08  \n",
       "1         Ativo Circu...          True       NaN  2.193760e+08  \n",
       "...                  ...           ...       ...           ...  \n",
       "17608709             PNB         False       NaN  2.148900e-02  \n",
       "17608710  Lucro Diluí...         False       NaN  0.000000e+00  \n",
       "\n",
       "[17608711 rows x 14 columns]"
      ]
     },
     "execution_count": 9,
     "metadata": {},
     "output_type": "execute_result"
    }
   ],
   "source": [
    "file_path = './data/processed/dataset.pkl'\n",
    "df = pd.read_pickle(file_path, compression='zstd')\n",
    "# with open('./data/processed/dataset.pkl', 'rb') as f:\n",
    "#     df = joblib.load(f)\n",
    "df"
   ]
  },
  {
   "cell_type": "code",
   "execution_count": 10,
   "metadata": {},
   "outputs": [
    {
     "name": "stdout",
     "output_type": "stream",
     "text": [
      "<class 'pandas.core.frame.DataFrame'>\n",
      "RangeIndex: 17608711 entries, 0 to 17608710\n",
      "Data columns (total 14 columns):\n",
      " #   Column         Dtype   \n",
      "---  ------         -----   \n",
      " 0   CD_CVM         category\n",
      " 1   CNPJ_CIA       category\n",
      " 2   DENOM_CIA      category\n",
      " 3   GRUPO_DFP      category\n",
      " 4   VERSAO         category\n",
      " 5   DT_REFER       category\n",
      " 6   DT_INI_EXERC   category\n",
      " 7   DT_FIM_EXERC   category\n",
      " 8   ORDEM_EXERC    category\n",
      " 9   CD_CONTA       category\n",
      " 10  DS_CONTA       category\n",
      " 11  ST_CONTA_FIXA  category\n",
      " 12  COLUNA_DF      category\n",
      " 13  VL_CONTA       float64 \n",
      "dtypes: category(13), float64(1)\n",
      "memory usage: 489.9 MB\n"
     ]
    }
   ],
   "source": [
    "df.info()"
   ]
  },
  {
   "cell_type": "code",
   "execution_count": 3,
   "metadata": {},
   "outputs": [
    {
     "data": {
      "text/plain": [
       "[2010, 2011, 2012, 2013, 2014, 2015, 2016, 2017, 2018, 2019, 2020, 2021]"
      ]
     },
     "execution_count": 3,
     "metadata": {},
     "output_type": "execute_result"
    }
   ],
   "source": [
    "list(range(2010,2022))"
   ]
  },
  {
   "cell_type": "code",
   "execution_count": 5,
   "metadata": {},
   "outputs": [
    {
     "name": "stdout",
     "output_type": "stream",
     "text": [
      "1\n",
      "2\n",
      "3\n"
     ]
    }
   ],
   "source": [
    "l1 = [1, 2, 3]\n",
    "l2 = ['a', 'b', 'c']\n",
    "for a in zip(l1, l2):\n",
    "    print(a[0])\n"
   ]
  }
 ],
 "metadata": {
  "interpreter": {
   "hash": "2b69beea3113fea2115fd020e5cf2455c0047401e926b51ffba90b9edc6ee9ae"
  },
  "kernelspec": {
   "display_name": "Python 3.10.1 64-bit ('brfin': conda)",
   "language": "python",
   "name": "python3"
  },
  "language_info": {
   "codemirror_mode": {
    "name": "ipython",
    "version": 3
   },
   "file_extension": ".py",
   "mimetype": "text/x-python",
   "name": "python",
   "nbconvert_exporter": "python",
   "pygments_lexer": "ipython3",
   "version": "3.10.2"
  },
  "orig_nbformat": 4
 },
 "nbformat": 4,
 "nbformat_minor": 2
}
